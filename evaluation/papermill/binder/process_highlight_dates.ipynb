{
 "cells": [
  {
   "cell_type": "markdown",
   "metadata": {},
   "source": [
    "# Using papermill to execute notebooks\n",
    "\n",
    "Papermill lets you execute the contents of Jupyter notebooks. It also lets you define parameters as inputs so that you can build pipelines of execution. We'll make use of scrapbook to record data in each notebook and print the results here.\n",
    "\n",
    "This is a demo to show off some basic functionality of Papermill. We'll demonstrate how to prepare a notebook for\n",
    "execution with Papermill, how to execute the notebook with various APIs, and how to look at the results.\n",
    "\n",
    "## Our goal\n",
    "\n",
    "Let's say that you've got a dataset that covers a span of time. We've got a notebook that does the following\n",
    "things:\n",
    "\n",
    "1. Read in the dataset with Pandas\n",
    "2. Plot the entire dataset over time\n",
    "3. Select a subset of dates and highlight them in the visualization\n",
    "\n",
    "Let's see how we can accomplish this programmatically with papermill and scrapbook.\n",
    "\n",
    "<a href=\"highlight_dates.ipynb\"><button type=\"button\">Link to input notebook!</button></a>\n"
   ]
  },
  {
   "cell_type": "markdown",
   "metadata": {},
   "source": [
    "## Prepare the input notebook\n",
    "\n",
    "First, we'll prepare the input notebook for use with papermill. We've done three things to it:\n",
    "\n",
    "1. Added a `parameters` cell so that we can define inputs at runtime\n",
    "2. Used the `scrapbook.glue()` function to store information about how many datapoints were highlited when the notebook was run\n",
    "3. Used the `scrapbook.glue()` function to store the plot we generate for later inspection.\n",
    "\n",
    "## Execute the notebook\n",
    "\n",
    "There are two primary ways to execute a notebook with `papermill`:\n",
    "\n",
    "* A command-line interface (`papermill <input-notebook> <output-notebook>`)\n",
    "* An interactive interface (`pm.execute_notebook()`)\n",
    "\n",
    "We'll cover each below"
   ]
  },
  {
   "cell_type": "markdown",
   "metadata": {},
   "source": [
    "### Command-line interface\n",
    "\n",
    "First we'll use the command line interface. By supplying the parameters with `-p <param-name> <param-value>` we\n",
    "override the defaults specified in the input notebook (in the cell with the `parameters` tag)."
   ]
  },
  {
   "cell_type": "code",
   "execution_count": null,
   "metadata": {},
   "outputs": [],
   "source": [
    "%%bash\n",
    "papermill highlight_dates.ipynb ./highlight_dates_run_cli.ipynb -p start_date 2011-01-01 -p stop_date 2014-02-02"
   ]
  },
  {
   "cell_type": "markdown",
   "metadata": {},
   "source": [
    "This generated the output notebook `highlight_dates_run.ipynb` along with metadata about the state of\n",
    "this notebook after it was executed.\n",
    "\n",
    "We can then use the interactive `scrapbook` API to inspect some information of the output notebook.\n",
    "\n",
    "First, we'll inspect some metadata about the notebook. This includes the values of parameters that were\n",
    "specified when we ran the notebook, as well as the value that we stored with `sb.glue()`."
   ]
  },
  {
   "cell_type": "code",
   "execution_count": null,
   "metadata": {},
   "outputs": [],
   "source": [
    "import scrapbook as sb\n",
    "out = sb.read_notebook('./highlight_dates_run_cli.ipynb')\n",
    "out.papermill_dataframe"
   ]
  },
  {
   "cell_type": "markdown",
   "metadata": {},
   "source": [
    "We can also display the output for the cell that we specified in the input notebook (with the `sb.glue(encoder='display')` function)"
   ]
  },
  {
   "cell_type": "code",
   "execution_count": null,
   "metadata": {},
   "outputs": [],
   "source": [
    "out.reglue('highlight_dates_fig')"
   ]
  },
  {
   "cell_type": "markdown",
   "metadata": {},
   "source": [
    "Finally, you can also explore the output notebook, which has all of the above information and more embedded in it.\n",
    "\n",
    "<a href=\"highlight_dates_run_cli.ipynb\"><button type=\"button\">Link to output notebook!</button></a>\n"
   ]
  },
  {
   "cell_type": "markdown",
   "metadata": {},
   "source": [
    "## Interactive interface\n",
    "\n",
    "Next we'll show execution with the interactive interface. We'll use the `pm.execute_notebook()` function,\n",
    "and provide a dictionary of new dates that we'd like to use to run the notebook.\n",
    "\n",
    "Let's first execute the notebook!"
   ]
  },
  {
   "cell_type": "code",
   "execution_count": null,
   "metadata": {},
   "outputs": [],
   "source": [
    "import papermill as pm\n",
    "# This line is equivalent to the one above\n",
    "new_dates = {'start_date': \"2014-01-01\", \"stop_date\":\"2015-02-02\"}\n",
    "pm.execute_notebook('./highlight_dates.ipynb', './highlight_dates_run_interactive.ipynb', new_dates);"
   ]
  },
  {
   "cell_type": "markdown",
   "metadata": {},
   "source": [
    "Now, we can read in the notebook, display the metadata that was generated by papermill, and visualize the figure\n",
    "we've created once more. Note that note the highlighted area has changed because we've changed the input\n",
    "parameters!"
   ]
  },
  {
   "cell_type": "code",
   "execution_count": null,
   "metadata": {},
   "outputs": [],
   "source": [
    "out = sb.read_notebook('./highlight_dates_run_interactive.ipynb')\n",
    "out.papermill_dataframe"
   ]
  },
  {
   "cell_type": "code",
   "execution_count": null,
   "metadata": {},
   "outputs": [],
   "source": [
    "out.reglue('highlight_dates_fig')"
   ]
  },
  {
   "cell_type": "markdown",
   "metadata": {},
   "source": [
    "Again, we can also explore the output notebook:\n",
    "\n",
    "<a href=\"highlight_dates_run_interactive.ipynb\"><button type=\"button\">Link to output notebook!</button></a>\n"
   ]
  }
 ],
 "metadata": {
  "kernelspec": {
   "display_name": "Python 3",
   "language": "python",
   "name": "python3"
  },
  "language_info": {
   "codemirror_mode": {
    "name": "ipython",
    "version": 3
   },
   "file_extension": ".py",
   "mimetype": "text/x-python",
   "name": "python",
   "nbconvert_exporter": "python",
   "pygments_lexer": "ipython3",
   "version": "3.6.3"
  }
 },
 "nbformat": 4,
 "nbformat_minor": 2
}
